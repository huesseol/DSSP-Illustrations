{
 "cells": [
  {
   "cell_type": "markdown",
   "metadata": {
    "id": "view-in-github"
   },
   "source": [
    "<a href=\"https://colab.research.google.com/github/dssp-ethz/DSSP-Illustrations/blob/main/One_Sided_Inversion.ipynb\" target=\"_parent\"><img src=\"https://colab.research.google.com/assets/colab-badge.svg\" alt=\"Open In Colab\"/></a>"
   ]
  },
  {
   "cell_type": "markdown",
   "metadata": {
    "id": "s-kRRaymEEzf"
   },
   "source": [
    "*Notebook designed by Nicolas Menet in collaboration with Guy Revach.*"
   ]
  },
  {
   "cell_type": "markdown",
   "metadata": {
    "id": "K-F0wIzCftlu"
   },
   "source": [
    "# Right sided and left sided inversion"
   ]
  },
  {
   "cell_type": "markdown",
   "metadata": {
    "id": "KvXPJ7VhgcrG"
   },
   "source": [
    "## Example 1.10 from lecture notes (as of 2020)"
   ]
  },
  {
   "cell_type": "code",
   "execution_count": null,
   "metadata": {
    "executionInfo": {
     "elapsed": 272,
     "status": "ok",
     "timestamp": 1634840379959,
     "user": {
      "displayName": "Oliver Hüsser",
      "photoUrl": "https://lh3.googleusercontent.com/a/default-user=s64",
      "userId": "16069893471423991221"
     },
     "user_tz": -120
    },
    "id": "bYh6Hw4bfJZq"
   },
   "outputs": [],
   "source": [
    "import numpy as np\n",
    "import matplotlib.pyplot as plt\n",
    "%matplotlib inline\n",
    "#-------------------------------------------------------------------------------\n",
    "\n",
    "def h(t):\n",
    "  if t == 1:\n",
    "    return 1\n",
    "  elif t == 2:\n",
    "    return 1/2\n",
    "  return 0\n",
    "\n",
    "def g(t):\n",
    "  if t >= -1:\n",
    "    return (-1/2)**(t+1)\n",
    "  return 0\n",
    "\n",
    "t_values = np.arange(-10,11)\n",
    "\n",
    "def plot_time():\n",
    "  y_values = [h(t) for t in t_values]\n",
    "  y2_values = [g(t) for t in t_values]\n",
    "\n",
    "  fig = plt.figure(figsize=(20, 8))\n",
    "\n",
    "  ax1 = fig.add_subplot(1, 2, 1)\n",
    "  ax1.grid()\n",
    "  ax1.set_title('filter')\n",
    "  ax1.set_xlabel('$k$', fontsize=14)\n",
    "  ax1.set_ylabel('$f[k]$', fontsize=14)\n",
    "  ax1.axis(xmin=t_values[0], xmax=t_values[-1])\n",
    "  ax1.set_xticks(t_values[0::2])\n",
    "  ax1.stem(t_values, y_values)\n",
    "\n",
    "  ax2 = fig.add_subplot(1, 2, 2)\n",
    "  ax2.grid()\n",
    "  ax2.set_title('inverted filter')\n",
    "  ax2.set_xlabel('$k$', fontsize=14)\n",
    "  ax2.set_ylabel('$g[k]$', fontsize=14)\n",
    "  ax2.axis(xmin=t_values[0], xmax=t_values[-1])\n",
    "  ax2.set_xticks(t_values[0::2])\n",
    "  ax2.stem(t_values, y2_values)"
   ]
  },
  {
   "cell_type": "code",
   "execution_count": null,
   "metadata": {
    "colab": {
     "base_uri": "https://localhost:8080/",
     "height": 564
    },
    "executionInfo": {
     "elapsed": 834,
     "status": "ok",
     "timestamp": 1634840383515,
     "user": {
      "displayName": "Oliver Hüsser",
      "photoUrl": "https://lh3.googleusercontent.com/a/default-user=s64",
      "userId": "16069893471423991221"
     },
     "user_tz": -120
    },
    "id": "3mmYM38Ti7Cb",
    "outputId": "d7f3dffc-9c75-4257-c5ae-87bc7f24c425"
   },
   "outputs": [],
   "source": [
    "plot_time()"
   ]
  },
  {
   "cell_type": "markdown",
   "metadata": {
    "id": "NXElGekWjdPd"
   },
   "source": [
    "# Example 1.11 (as of 2020)"
   ]
  },
  {
   "cell_type": "code",
   "execution_count": null,
   "metadata": {
    "executionInfo": {
     "elapsed": 302,
     "status": "ok",
     "timestamp": 1634840390258,
     "user": {
      "displayName": "Oliver Hüsser",
      "photoUrl": "https://lh3.googleusercontent.com/a/default-user=s64",
      "userId": "16069893471423991221"
     },
     "user_tz": -120
    },
    "id": "_JNwBkXSjfYT"
   },
   "outputs": [],
   "source": [
    "import numpy as np\n",
    "import matplotlib.pyplot as plt\n",
    "%matplotlib inline\n",
    "#-------------------------------------------------------------------------------\n",
    "\n",
    "def h(k):\n",
    "  if k == 1:\n",
    "    return 1\n",
    "  elif k == 2:\n",
    "    return 2\n",
    "  return 0\n",
    "\n",
    "def g_r(k):\n",
    "  if k >= -1:\n",
    "    return (-1/2)**(-k)\n",
    "  return 0\n",
    "\n",
    "def g_l(k):\n",
    "  if k < 0:\n",
    "    return -(-1/2)**(-k)\n",
    "  return 0\n",
    "\n",
    "def g_l_delay_truncated(k):\n",
    "  if k < 0:\n",
    "    return 0\n",
    "  return g_l(k-4)\n",
    "\n",
    "k_values = np.arange(-10,11)\n",
    "\n",
    "def plot_time2():\n",
    "  y_values = [h(k) for k in k_values]\n",
    "  y2_values = [g_r(k) for k in k_values]\n",
    "  y3_values = [g_l(k) for k in k_values]\n",
    "  y4_values = [g_l_delay_truncated(k) for k in k_values]\n",
    "\n",
    "  fig = plt.figure(figsize=(20, 14))\n",
    "\n",
    "  ax1 = fig.add_subplot(2, 2, 1)\n",
    "  ax1.grid()\n",
    "  ax1.set_title('signal')\n",
    "  ax1.set_xlabel('$k$', fontsize=14)\n",
    "  ax1.set_ylabel('$f[k]$', fontsize=14)\n",
    "  ax1.axis(xmin=k_values[0], xmax=k_values[-1])\n",
    "  ax1.set_xticks(t_values[0::2])\n",
    "  ax1.stem(k_values, y_values)\n",
    "\n",
    "  ax2 = fig.add_subplot(2, 2, 2)\n",
    "  ax2.grid()\n",
    "  ax2.set_title('right sided inversion')\n",
    "  ax2.set_xlabel('$k$', fontsize=14)\n",
    "  ax2.set_ylabel('$g_r[k]$', fontsize=14)\n",
    "  ax2.axis(xmin=k_values[0], xmax=k_values[-1])\n",
    "  ax2.set_xticks(t_values[0::2])\n",
    "  ax2.stem(k_values, y2_values)\n",
    "\n",
    "  ax3 = fig.add_subplot(2, 2, 3)\n",
    "  ax3.grid()\n",
    "  ax3.set_title('left sided inversion')\n",
    "  ax3.set_xlabel('$k$', fontsize=14)\n",
    "  ax3.set_ylabel('$g_l[k]$', fontsize=14)\n",
    "  ax3.axis(xmin=k_values[0], xmax=k_values[-1])\n",
    "  ax3.set_xticks(t_values[0::2])\n",
    "  ax3.stem(k_values, y3_values)\n",
    "\n",
    "  ax4 = fig.add_subplot(2, 2, 4)\n",
    "  ax4.grid()\n",
    "  ax4.set_title('truncated and causal left sided inversion')\n",
    "  ax4.set_xlabel('$k$', fontsize=14)\n",
    "  ax4.set_ylabel('$truncated\\ delayed\\ g_l[k]$', fontsize=14)\n",
    "  ax4.axis(xmin=k_values[0], xmax=k_values[-1])\n",
    "  ax4.set_xticks(t_values[0::2])\n",
    "  ax4.stem(k_values, y4_values)"
   ]
  },
  {
   "cell_type": "code",
   "execution_count": null,
   "metadata": {
    "colab": {
     "base_uri": "https://localhost:8080/",
     "height": 912
    },
    "executionInfo": {
     "elapsed": 1542,
     "status": "ok",
     "timestamp": 1634840395774,
     "user": {
      "displayName": "Oliver Hüsser",
      "photoUrl": "https://lh3.googleusercontent.com/a/default-user=s64",
      "userId": "16069893471423991221"
     },
     "user_tz": -120
    },
    "id": "7PsMJzmAjhin",
    "outputId": "9c70f1dc-9575-4d07-925b-ac6038761308"
   },
   "outputs": [],
   "source": [
    "plot_time2()"
   ]
  },
  {
   "cell_type": "markdown",
   "metadata": {
    "id": "qry831t_maym"
   },
   "source": [
    "# Right Sided Inversion Formula"
   ]
  },
  {
   "cell_type": "code",
   "execution_count": null,
   "metadata": {
    "colab": {
     "base_uri": "https://localhost:8080/"
    },
    "executionInfo": {
     "elapsed": 16788,
     "status": "ok",
     "timestamp": 1634829860973,
     "user": {
      "displayName": "Oliver Hüsser",
      "photoUrl": "https://lh3.googleusercontent.com/a/default-user=s64",
      "userId": "16069893471423991221"
     },
     "user_tz": -120
    },
    "id": "Oo88bnAFLsTS",
    "outputId": "3db8db05-f731-4663-8f5f-fb83cac3569c"
   },
   "outputs": [],
   "source": [
    "pip install pydsm"
   ]
  },
  {
   "cell_type": "code",
   "execution_count": null,
   "metadata": {
    "colab": {
     "base_uri": "https://localhost:8080/"
    },
    "executionInfo": {
     "elapsed": 1584,
     "status": "ok",
     "timestamp": 1634839429794,
     "user": {
      "displayName": "Oliver Hüsser",
      "photoUrl": "https://lh3.googleusercontent.com/a/default-user=s64",
      "userId": "16069893471423991221"
     },
     "user_tz": -120
    },
    "id": "5-2j3gWJLmBX",
    "outputId": "a6c1561e-3516-4f49-b34d-72db7b653c2e"
   },
   "outputs": [],
   "source": [
    "!gdown https://drive.google.com/uc?id=1-nxgfNaJPeB88X_kE5T2xDqiGI5T2I1u"
   ]
  },
  {
   "cell_type": "code",
   "execution_count": null,
   "metadata": {
    "executionInfo": {
     "elapsed": 280,
     "status": "ok",
     "timestamp": 1634839431495,
     "user": {
      "displayName": "Oliver Hüsser",
      "photoUrl": "https://lh3.googleusercontent.com/a/default-user=s64",
      "userId": "16069893471423991221"
     },
     "user_tz": -120
    },
    "id": "eEN32DwsLy2f"
   },
   "outputs": [],
   "source": [
    "import signals\n",
    "import numpy as np\n",
    "import ipywidgets as widgets\n",
    "import matplotlib.pyplot as plt"
   ]
  },
  {
   "cell_type": "markdown",
   "metadata": {
    "id": "MDSxxLeFmheo"
   },
   "source": [
    "Suppose $h[k]$ is a function describing an arbitrary right sided signal. We obtain the right sided inversion with the algorithm on page 14 (as of 2020). To avoid duplicate computation the technique of memorization is used here. The offset corresponds to $m$ in the lecture notes and must first be set before computing the right sided inversion filter."
   ]
  },
  {
   "cell_type": "code",
   "execution_count": null,
   "metadata": {
    "executionInfo": {
     "elapsed": 260,
     "status": "ok",
     "timestamp": 1634839434329,
     "user": {
      "displayName": "Oliver Hüsser",
      "photoUrl": "https://lh3.googleusercontent.com/a/default-user=s64",
      "userId": "16069893471423991221"
     },
     "user_tz": -120
    },
    "id": "MJvEmsWtmc8L"
   },
   "outputs": [],
   "source": [
    "#FILTER INVERSION ALGORITHM\n",
    "#assumes h() is a well-defined function\n",
    "offset = 0\n",
    "mem_r = {}\n",
    "\n",
    "def g_right_sided_init():\n",
    "  global offset, mem_r\n",
    "  offset = np.nonzero(list(map(h, signals.nG3)))[0][0] - 60 #with index 60, m = 0 since it is counted from left border and not center\n",
    "  print(\"offset m set to\", offset)\n",
    "  mem_r = {}\n",
    "\n",
    "\n",
    "def g_right_sided_at(idx):\n",
    "  m = offset\n",
    "  n = -offset\n",
    "  k = idx - n\n",
    "\n",
    "  #computes a(l) using h(idx)\n",
    "  def a(l):\n",
    "    return h(l+m)\n",
    "  #computes b(l) using g_right_sided_at(idx)\n",
    "  def b(l):\n",
    "    return g_right_sided_at(l+n)\n",
    "\n",
    "  if k in mem_r:\n",
    "    return mem_r[k]\n",
    "\n",
    "  if k < 0:\n",
    "    mem_r[k] = 0\n",
    "\n",
    "  elif k == 0:\n",
    "    mem_r[k] = 1/a(0)\n",
    "  \n",
    "  else: # k > 0\n",
    "    sum = 0\n",
    "    for i in range(0, k): #0, ..., k-1\n",
    "      sum += a(k-i) * b(i)\n",
    "    mem_r[k] = -sum/h(offset)\n",
    "\n",
    "  return mem_r[k]"
   ]
  },
  {
   "cell_type": "markdown",
   "metadata": {
    "id": "KmpTP0D7NVZI"
   },
   "source": [
    "## Applying the inversion formula to a signal"
   ]
  },
  {
   "cell_type": "markdown",
   "metadata": {
    "id": "urvGmOKELHtb"
   },
   "source": [
    "You may select any signal to test the inversion formula. You will see that the inverse signal need not be stable."
   ]
  },
  {
   "cell_type": "code",
   "execution_count": null,
   "metadata": {
    "colab": {
     "base_uri": "https://localhost:8080/",
     "height": 145,
     "referenced_widgets": [
      "56d71b2edbac4990aa1bc012bd405d67",
      "ad8394161d224d98a563c14656914c48",
      "b3dd4b987d5e4ebba9a00515da6e383e",
      "3b25515d5627442293d0d1a1df4c0421",
      "6d10dee00a1b44f0ac1cb40ee5766640",
      "4b3aec5cac1a41b7b77936153cce9aa2",
      "3fa79ee36ca14ff78adafb642ca77889",
      "94839861badb4957a5832d80a7755bd4",
      "02cd728b77d645939063e2dc145553c1",
      "cf7f9cffb1dd48dda7a460960f2a8eb8",
      "032120f335e342c7bfb89a2679e04de7",
      "e231661424d44a37a192540b9ab6daf2",
      "e74ed2f1195a43269f9ad1f724c23b4d",
      "c95d80b28a2d4889a739e3aa50144f68",
      "2f07061f0ebd461ea70f6152291ea2e5",
      "bcc58263cccc444aa1db7a0fd46b0bcd",
      "b12ee628c35647c1ab81ed459f15a2f6",
      "83a766e9161f413280d97fbf22acb898",
      "0a40f0cfd61f47b0acc24392567b7e9d",
      "603d6b4609df469ea3bd0e812eeb86cb"
     ]
    },
    "executionInfo": {
     "elapsed": 395,
     "status": "ok",
     "timestamp": 1634840409232,
     "user": {
      "displayName": "Oliver Hüsser",
      "photoUrl": "https://lh3.googleusercontent.com/a/default-user=s64",
      "userId": "16069893471423991221"
     },
     "user_tz": -120
    },
    "id": "JrAYRk0ULItT",
    "outputId": "eba23c44-8012-45d5-fd17-4cf5c3a9be8f"
   },
   "outputs": [],
   "source": [
    "signals.widget()\n",
    "\n",
    "def update_parameters(logPlot):\n",
    "  global logPlotG\n",
    "  logPlotG = logPlot\n",
    "\n",
    "widgets.interact(update_parameters,\n",
    "  logPlot = widgets.Checkbox(\n",
    "    value=False,\n",
    "    description='logarithmic plot')\n",
    ");"
   ]
  },
  {
   "cell_type": "code",
   "execution_count": null,
   "metadata": {
    "colab": {
     "base_uri": "https://localhost:8080/",
     "height": 64
    },
    "executionInfo": {
     "elapsed": 279,
     "status": "ok",
     "timestamp": 1634840412739,
     "user": {
      "displayName": "Oliver Hüsser",
      "photoUrl": "https://lh3.googleusercontent.com/a/default-user=s64",
      "userId": "16069893471423991221"
     },
     "user_tz": -120
    },
    "id": "uJx0SZyfL9mU",
    "outputId": "f0e3f7f6-caa8-4a22-cf59-ac889d4c81e8"
   },
   "outputs": [],
   "source": [
    "signals.display_signal_selection(continuous=False) #do not be confused by u[k], it is actually h[k]"
   ]
  },
  {
   "cell_type": "markdown",
   "metadata": {
    "id": "IXG7ORkPVn8Q"
   },
   "source": [
    "Make sure each time you update the signal you run the graph plotting code below to read in the new signal."
   ]
  },
  {
   "cell_type": "code",
   "execution_count": null,
   "metadata": {
    "colab": {
     "base_uri": "https://localhost:8080/",
     "height": 567
    },
    "executionInfo": {
     "elapsed": 1015,
     "status": "ok",
     "timestamp": 1634840485466,
     "user": {
      "displayName": "Oliver Hüsser",
      "photoUrl": "https://lh3.googleusercontent.com/a/default-user=s64",
      "userId": "16069893471423991221"
     },
     "user_tz": -120
    },
    "id": "r35TQiPKMV3z",
    "outputId": "9dff2ae7-4b89-4f90-dcc4-e3111422dbc7"
   },
   "outputs": [],
   "source": [
    "time_values = signals.nG3\n",
    "h_values = signals.time_domain_signal_long()\n",
    "\n",
    "fig = plt.figure(figsize=(20, 8))\n",
    "\n",
    "ax1 = fig.add_subplot(1, 1, 1)\n",
    "ax1.grid()\n",
    "ax1.set_title('original signal')\n",
    "ax1.set_xlabel('$k$', fontsize=14)\n",
    "ax1.set_ylabel('$h[k]$', fontsize=14)\n",
    "ax1.axis(xmin=time_values[0], xmax=time_values[-1])\n",
    "if logPlotG == False:\n",
    "  ax1.axis(ymin=-3, ymax=3)\n",
    "  ax1.stem(time_values, h_values)\n",
    "else:\n",
    "  ax1.axis(ymin=0.1, ymax=3)\n",
    "  ax1.semilogy(time_values, h_values, alpha=0.5, marker='o', markersize=8);"
   ]
  },
  {
   "cell_type": "markdown",
   "metadata": {
    "id": "oCoh1otiriVX"
   },
   "source": [
    "Let us apply the right sided inversion to the filtered signal."
   ]
  },
  {
   "cell_type": "code",
   "execution_count": null,
   "metadata": {
    "colab": {
     "base_uri": "https://localhost:8080/"
    },
    "executionInfo": {
     "elapsed": 281,
     "status": "ok",
     "timestamp": 1634840436545,
     "user": {
      "displayName": "Oliver Hüsser",
      "photoUrl": "https://lh3.googleusercontent.com/a/default-user=s64",
      "userId": "16069893471423991221"
     },
     "user_tz": -120
    },
    "id": "Z6xzztOgrhxb",
    "outputId": "1071388c-88b1-4a16-8fdc-7e1922c15b8f"
   },
   "outputs": [],
   "source": [
    "def h(k):#yields original signal indexed by (possibly negative) k\n",
    "  if k in list(time_values):\n",
    "    return h_values[list(time_values).index(k)]\n",
    "  else:\n",
    "    return 0\n",
    "\n",
    "g_right_sided_init()\n",
    "g_values = [g_right_sided_at(t) for t in time_values]"
   ]
  },
  {
   "cell_type": "code",
   "execution_count": null,
   "metadata": {
    "colab": {
     "base_uri": "https://localhost:8080/",
     "height": 566
    },
    "executionInfo": {
     "elapsed": 849,
     "status": "ok",
     "timestamp": 1634840475650,
     "user": {
      "displayName": "Oliver Hüsser",
      "photoUrl": "https://lh3.googleusercontent.com/a/default-user=s64",
      "userId": "16069893471423991221"
     },
     "user_tz": -120
    },
    "id": "aBXtDPs4MP6Q",
    "outputId": "77a018db-e9c1-4044-a289-4420e99312b9"
   },
   "outputs": [],
   "source": [
    "fig = plt.figure(figsize=(20, 8))\n",
    "\n",
    "ax2 = fig.add_subplot(1, 1, 1)\n",
    "ax2.grid()\n",
    "ax2.set_title('inverted signal')\n",
    "ax2.set_xlabel('$k$', fontsize=14)\n",
    "ax2.set_ylabel('$g[k]$', fontsize=14)\n",
    "ax2.axis(xmin=time_values[0], xmax=time_values[-1])\n",
    "if logPlotG == False:\n",
    "  ax2.axis(ymin=-3, ymax=3)\n",
    "  ax2.stem(time_values, g_values)\n",
    "else:\n",
    "  ax2.axis(ymin=0.1, ymax=3)\n",
    "  ax2.semilogy(time_values, g_values, alpha=0.5, marker='o', markersize=8);"
   ]
  }
 ],
 "metadata": {
  "colab": {
   "collapsed_sections": [],
   "name": "One_Sided_Inversion.ipynb",
   "provenance": []
  },
  "interpreter": {
   "hash": "622be5046a7514208b31c5ff270f0a4cea8aaf7bb018599c2e4329f73ecf086c"
  },
  "kernelspec": {
   "display_name": "Python 3",
   "language": "python",
   "name": "python3"
  },
  "language_info": {
   "codemirror_mode": {
    "name": "ipython",
    "version": 3
   },
   "file_extension": ".py",
   "mimetype": "text/x-python",
   "name": "python",
   "nbconvert_exporter": "python",
   "pygments_lexer": "ipython3",
   "version": "3.8.8"
  },
  "widgets": {
   "application/vnd.jupyter.widget-state+json": {
    "02cd728b77d645939063e2dc145553c1": {
     "model_module": "@jupyter-widgets/controls",
     "model_module_version": "1.5.0",
     "model_name": "SliderStyleModel",
     "state": {
      "_model_module": "@jupyter-widgets/controls",
      "_model_module_version": "1.5.0",
      "_model_name": "SliderStyleModel",
      "_view_count": null,
      "_view_module": "@jupyter-widgets/base",
      "_view_module_version": "1.2.0",
      "_view_name": "StyleView",
      "description_width": "",
      "handle_color": null
     }
    },
    "032120f335e342c7bfb89a2679e04de7": {
     "model_module": "@jupyter-widgets/controls",
     "model_module_version": "1.5.0",
     "model_name": "DescriptionStyleModel",
     "state": {
      "_model_module": "@jupyter-widgets/controls",
      "_model_module_version": "1.5.0",
      "_model_name": "DescriptionStyleModel",
      "_view_count": null,
      "_view_module": "@jupyter-widgets/base",
      "_view_module_version": "1.2.0",
      "_view_name": "StyleView",
      "description_width": ""
     }
    },
    "0a40f0cfd61f47b0acc24392567b7e9d": {
     "model_module": "@jupyter-widgets/base",
     "model_module_version": "1.2.0",
     "model_name": "LayoutModel",
     "state": {
      "_model_module": "@jupyter-widgets/base",
      "_model_module_version": "1.2.0",
      "_model_name": "LayoutModel",
      "_view_count": null,
      "_view_module": "@jupyter-widgets/base",
      "_view_module_version": "1.2.0",
      "_view_name": "LayoutView",
      "align_content": null,
      "align_items": null,
      "align_self": null,
      "border": null,
      "bottom": null,
      "display": null,
      "flex": null,
      "flex_flow": null,
      "grid_area": null,
      "grid_auto_columns": null,
      "grid_auto_flow": null,
      "grid_auto_rows": null,
      "grid_column": null,
      "grid_gap": null,
      "grid_row": null,
      "grid_template_areas": null,
      "grid_template_columns": null,
      "grid_template_rows": null,
      "height": null,
      "justify_content": null,
      "justify_items": null,
      "left": null,
      "margin": null,
      "max_height": null,
      "max_width": null,
      "min_height": null,
      "min_width": null,
      "object_fit": null,
      "object_position": null,
      "order": null,
      "overflow": null,
      "overflow_x": null,
      "overflow_y": null,
      "padding": null,
      "right": null,
      "top": null,
      "visibility": null,
      "width": null
     }
    },
    "2f07061f0ebd461ea70f6152291ea2e5": {
     "model_module": "@jupyter-widgets/base",
     "model_module_version": "1.2.0",
     "model_name": "LayoutModel",
     "state": {
      "_model_module": "@jupyter-widgets/base",
      "_model_module_version": "1.2.0",
      "_model_name": "LayoutModel",
      "_view_count": null,
      "_view_module": "@jupyter-widgets/base",
      "_view_module_version": "1.2.0",
      "_view_name": "LayoutView",
      "align_content": null,
      "align_items": null,
      "align_self": null,
      "border": null,
      "bottom": null,
      "display": null,
      "flex": null,
      "flex_flow": null,
      "grid_area": null,
      "grid_auto_columns": null,
      "grid_auto_flow": null,
      "grid_auto_rows": null,
      "grid_column": null,
      "grid_gap": null,
      "grid_row": null,
      "grid_template_areas": null,
      "grid_template_columns": null,
      "grid_template_rows": null,
      "height": null,
      "justify_content": null,
      "justify_items": null,
      "left": null,
      "margin": null,
      "max_height": null,
      "max_width": null,
      "min_height": null,
      "min_width": null,
      "object_fit": null,
      "object_position": null,
      "order": null,
      "overflow": null,
      "overflow_x": null,
      "overflow_y": null,
      "padding": null,
      "right": null,
      "top": null,
      "visibility": null,
      "width": null
     }
    },
    "3b25515d5627442293d0d1a1df4c0421": {
     "model_module": "@jupyter-widgets/controls",
     "model_module_version": "1.5.0",
     "model_name": "IntSliderModel",
     "state": {
      "_dom_classes": [],
      "_model_module": "@jupyter-widgets/controls",
      "_model_module_version": "1.5.0",
      "_model_name": "IntSliderModel",
      "_view_count": null,
      "_view_module": "@jupyter-widgets/controls",
      "_view_module_version": "1.5.0",
      "_view_name": "IntSliderView",
      "continuous_update": true,
      "description": "parameter",
      "description_tooltip": null,
      "disabled": false,
      "layout": "IPY_MODEL_cf7f9cffb1dd48dda7a460960f2a8eb8",
      "max": 10,
      "min": -10,
      "orientation": "horizontal",
      "readout": true,
      "readout_format": "d",
      "step": 1,
      "style": "IPY_MODEL_02cd728b77d645939063e2dc145553c1",
      "value": 1
     }
    },
    "3fa79ee36ca14ff78adafb642ca77889": {
     "model_module": "@jupyter-widgets/controls",
     "model_module_version": "1.5.0",
     "model_name": "DescriptionStyleModel",
     "state": {
      "_model_module": "@jupyter-widgets/controls",
      "_model_module_version": "1.5.0",
      "_model_name": "DescriptionStyleModel",
      "_view_count": null,
      "_view_module": "@jupyter-widgets/base",
      "_view_module_version": "1.2.0",
      "_view_name": "StyleView",
      "description_width": ""
     }
    },
    "4b3aec5cac1a41b7b77936153cce9aa2": {
     "model_module": "@jupyter-widgets/output",
     "model_module_version": "1.0.0",
     "model_name": "OutputModel",
     "state": {
      "_dom_classes": [],
      "_model_module": "@jupyter-widgets/output",
      "_model_module_version": "1.0.0",
      "_model_name": "OutputModel",
      "_view_count": null,
      "_view_module": "@jupyter-widgets/output",
      "_view_module_version": "1.0.0",
      "_view_name": "OutputView",
      "layout": "IPY_MODEL_e74ed2f1195a43269f9ad1f724c23b4d",
      "msg_id": "",
      "outputs": []
     }
    },
    "56d71b2edbac4990aa1bc012bd405d67": {
     "model_module": "@jupyter-widgets/controls",
     "model_module_version": "1.5.0",
     "model_name": "VBoxModel",
     "state": {
      "_dom_classes": [
       "widget-interact"
      ],
      "_model_module": "@jupyter-widgets/controls",
      "_model_module_version": "1.5.0",
      "_model_name": "VBoxModel",
      "_view_count": null,
      "_view_module": "@jupyter-widgets/controls",
      "_view_module_version": "1.5.0",
      "_view_name": "VBoxView",
      "box_style": "",
      "children": [
       "IPY_MODEL_b3dd4b987d5e4ebba9a00515da6e383e",
       "IPY_MODEL_3b25515d5627442293d0d1a1df4c0421",
       "IPY_MODEL_6d10dee00a1b44f0ac1cb40ee5766640",
       "IPY_MODEL_4b3aec5cac1a41b7b77936153cce9aa2"
      ],
      "layout": "IPY_MODEL_ad8394161d224d98a563c14656914c48"
     }
    },
    "603d6b4609df469ea3bd0e812eeb86cb": {
     "model_module": "@jupyter-widgets/base",
     "model_module_version": "1.2.0",
     "model_name": "LayoutModel",
     "state": {
      "_model_module": "@jupyter-widgets/base",
      "_model_module_version": "1.2.0",
      "_model_name": "LayoutModel",
      "_view_count": null,
      "_view_module": "@jupyter-widgets/base",
      "_view_module_version": "1.2.0",
      "_view_name": "LayoutView",
      "align_content": null,
      "align_items": null,
      "align_self": null,
      "border": null,
      "bottom": null,
      "display": null,
      "flex": null,
      "flex_flow": null,
      "grid_area": null,
      "grid_auto_columns": null,
      "grid_auto_flow": null,
      "grid_auto_rows": null,
      "grid_column": null,
      "grid_gap": null,
      "grid_row": null,
      "grid_template_areas": null,
      "grid_template_columns": null,
      "grid_template_rows": null,
      "height": null,
      "justify_content": null,
      "justify_items": null,
      "left": null,
      "margin": null,
      "max_height": null,
      "max_width": null,
      "min_height": null,
      "min_width": null,
      "object_fit": null,
      "object_position": null,
      "order": null,
      "overflow": null,
      "overflow_x": null,
      "overflow_y": null,
      "padding": null,
      "right": null,
      "top": null,
      "visibility": null,
      "width": null
     }
    },
    "6d10dee00a1b44f0ac1cb40ee5766640": {
     "model_module": "@jupyter-widgets/controls",
     "model_module_version": "1.5.0",
     "model_name": "TextModel",
     "state": {
      "_dom_classes": [],
      "_model_module": "@jupyter-widgets/controls",
      "_model_module_version": "1.5.0",
      "_model_name": "TextModel",
      "_view_count": null,
      "_view_module": "@jupyter-widgets/controls",
      "_view_module_version": "1.5.0",
      "_view_name": "TextView",
      "continuous_update": true,
      "description": "causal signal",
      "description_tooltip": null,
      "disabled": false,
      "layout": "IPY_MODEL_e231661424d44a37a192540b9ab6daf2",
      "placeholder": "​",
      "style": "IPY_MODEL_032120f335e342c7bfb89a2679e04de7",
      "value": "1 2 1 -2 2"
     }
    },
    "83a766e9161f413280d97fbf22acb898": {
     "model_module": "@jupyter-widgets/controls",
     "model_module_version": "1.5.0",
     "model_name": "DescriptionStyleModel",
     "state": {
      "_model_module": "@jupyter-widgets/controls",
      "_model_module_version": "1.5.0",
      "_model_name": "DescriptionStyleModel",
      "_view_count": null,
      "_view_module": "@jupyter-widgets/base",
      "_view_module_version": "1.2.0",
      "_view_name": "StyleView",
      "description_width": ""
     }
    },
    "94839861badb4957a5832d80a7755bd4": {
     "model_module": "@jupyter-widgets/base",
     "model_module_version": "1.2.0",
     "model_name": "LayoutModel",
     "state": {
      "_model_module": "@jupyter-widgets/base",
      "_model_module_version": "1.2.0",
      "_model_name": "LayoutModel",
      "_view_count": null,
      "_view_module": "@jupyter-widgets/base",
      "_view_module_version": "1.2.0",
      "_view_name": "LayoutView",
      "align_content": null,
      "align_items": null,
      "align_self": null,
      "border": null,
      "bottom": null,
      "display": null,
      "flex": null,
      "flex_flow": null,
      "grid_area": null,
      "grid_auto_columns": null,
      "grid_auto_flow": null,
      "grid_auto_rows": null,
      "grid_column": null,
      "grid_gap": null,
      "grid_row": null,
      "grid_template_areas": null,
      "grid_template_columns": null,
      "grid_template_rows": null,
      "height": null,
      "justify_content": null,
      "justify_items": null,
      "left": null,
      "margin": null,
      "max_height": null,
      "max_width": null,
      "min_height": null,
      "min_width": null,
      "object_fit": null,
      "object_position": null,
      "order": null,
      "overflow": null,
      "overflow_x": null,
      "overflow_y": null,
      "padding": null,
      "right": null,
      "top": null,
      "visibility": null,
      "width": null
     }
    },
    "ad8394161d224d98a563c14656914c48": {
     "model_module": "@jupyter-widgets/base",
     "model_module_version": "1.2.0",
     "model_name": "LayoutModel",
     "state": {
      "_model_module": "@jupyter-widgets/base",
      "_model_module_version": "1.2.0",
      "_model_name": "LayoutModel",
      "_view_count": null,
      "_view_module": "@jupyter-widgets/base",
      "_view_module_version": "1.2.0",
      "_view_name": "LayoutView",
      "align_content": null,
      "align_items": null,
      "align_self": null,
      "border": null,
      "bottom": null,
      "display": null,
      "flex": null,
      "flex_flow": null,
      "grid_area": null,
      "grid_auto_columns": null,
      "grid_auto_flow": null,
      "grid_auto_rows": null,
      "grid_column": null,
      "grid_gap": null,
      "grid_row": null,
      "grid_template_areas": null,
      "grid_template_columns": null,
      "grid_template_rows": null,
      "height": null,
      "justify_content": null,
      "justify_items": null,
      "left": null,
      "margin": null,
      "max_height": null,
      "max_width": null,
      "min_height": null,
      "min_width": null,
      "object_fit": null,
      "object_position": null,
      "order": null,
      "overflow": null,
      "overflow_x": null,
      "overflow_y": null,
      "padding": null,
      "right": null,
      "top": null,
      "visibility": null,
      "width": null
     }
    },
    "b12ee628c35647c1ab81ed459f15a2f6": {
     "model_module": "@jupyter-widgets/output",
     "model_module_version": "1.0.0",
     "model_name": "OutputModel",
     "state": {
      "_dom_classes": [],
      "_model_module": "@jupyter-widgets/output",
      "_model_module_version": "1.0.0",
      "_model_name": "OutputModel",
      "_view_count": null,
      "_view_module": "@jupyter-widgets/output",
      "_view_module_version": "1.0.0",
      "_view_name": "OutputView",
      "layout": "IPY_MODEL_603d6b4609df469ea3bd0e812eeb86cb",
      "msg_id": "",
      "outputs": []
     }
    },
    "b3dd4b987d5e4ebba9a00515da6e383e": {
     "model_module": "@jupyter-widgets/controls",
     "model_module_version": "1.5.0",
     "model_name": "DropdownModel",
     "state": {
      "_dom_classes": [],
      "_model_module": "@jupyter-widgets/controls",
      "_model_module_version": "1.5.0",
      "_model_name": "DropdownModel",
      "_options_labels": [
       "unit step",
       "unit impulse",
       "ramp",
       "exponential",
       "sinus",
       "sinus squared",
       "causal arbitrary"
      ],
      "_view_count": null,
      "_view_module": "@jupyter-widgets/controls",
      "_view_module_version": "1.5.0",
      "_view_name": "DropdownView",
      "description": "signal type",
      "description_tooltip": null,
      "disabled": false,
      "index": 0,
      "layout": "IPY_MODEL_94839861badb4957a5832d80a7755bd4",
      "style": "IPY_MODEL_3fa79ee36ca14ff78adafb642ca77889"
     }
    },
    "bcc58263cccc444aa1db7a0fd46b0bcd": {
     "model_module": "@jupyter-widgets/controls",
     "model_module_version": "1.5.0",
     "model_name": "CheckboxModel",
     "state": {
      "_dom_classes": [],
      "_model_module": "@jupyter-widgets/controls",
      "_model_module_version": "1.5.0",
      "_model_name": "CheckboxModel",
      "_view_count": null,
      "_view_module": "@jupyter-widgets/controls",
      "_view_module_version": "1.5.0",
      "_view_name": "CheckboxView",
      "description": "logarithmic plot",
      "description_tooltip": null,
      "disabled": false,
      "indent": true,
      "layout": "IPY_MODEL_0a40f0cfd61f47b0acc24392567b7e9d",
      "style": "IPY_MODEL_83a766e9161f413280d97fbf22acb898",
      "value": false
     }
    },
    "c95d80b28a2d4889a739e3aa50144f68": {
     "model_module": "@jupyter-widgets/controls",
     "model_module_version": "1.5.0",
     "model_name": "VBoxModel",
     "state": {
      "_dom_classes": [
       "widget-interact"
      ],
      "_model_module": "@jupyter-widgets/controls",
      "_model_module_version": "1.5.0",
      "_model_name": "VBoxModel",
      "_view_count": null,
      "_view_module": "@jupyter-widgets/controls",
      "_view_module_version": "1.5.0",
      "_view_name": "VBoxView",
      "box_style": "",
      "children": [
       "IPY_MODEL_bcc58263cccc444aa1db7a0fd46b0bcd",
       "IPY_MODEL_b12ee628c35647c1ab81ed459f15a2f6"
      ],
      "layout": "IPY_MODEL_2f07061f0ebd461ea70f6152291ea2e5"
     }
    },
    "cf7f9cffb1dd48dda7a460960f2a8eb8": {
     "model_module": "@jupyter-widgets/base",
     "model_module_version": "1.2.0",
     "model_name": "LayoutModel",
     "state": {
      "_model_module": "@jupyter-widgets/base",
      "_model_module_version": "1.2.0",
      "_model_name": "LayoutModel",
      "_view_count": null,
      "_view_module": "@jupyter-widgets/base",
      "_view_module_version": "1.2.0",
      "_view_name": "LayoutView",
      "align_content": null,
      "align_items": null,
      "align_self": null,
      "border": null,
      "bottom": null,
      "display": null,
      "flex": null,
      "flex_flow": null,
      "grid_area": null,
      "grid_auto_columns": null,
      "grid_auto_flow": null,
      "grid_auto_rows": null,
      "grid_column": null,
      "grid_gap": null,
      "grid_row": null,
      "grid_template_areas": null,
      "grid_template_columns": null,
      "grid_template_rows": null,
      "height": null,
      "justify_content": null,
      "justify_items": null,
      "left": null,
      "margin": null,
      "max_height": null,
      "max_width": null,
      "min_height": null,
      "min_width": null,
      "object_fit": null,
      "object_position": null,
      "order": null,
      "overflow": null,
      "overflow_x": null,
      "overflow_y": null,
      "padding": null,
      "right": null,
      "top": null,
      "visibility": null,
      "width": null
     }
    },
    "e231661424d44a37a192540b9ab6daf2": {
     "model_module": "@jupyter-widgets/base",
     "model_module_version": "1.2.0",
     "model_name": "LayoutModel",
     "state": {
      "_model_module": "@jupyter-widgets/base",
      "_model_module_version": "1.2.0",
      "_model_name": "LayoutModel",
      "_view_count": null,
      "_view_module": "@jupyter-widgets/base",
      "_view_module_version": "1.2.0",
      "_view_name": "LayoutView",
      "align_content": null,
      "align_items": null,
      "align_self": null,
      "border": null,
      "bottom": null,
      "display": null,
      "flex": null,
      "flex_flow": null,
      "grid_area": null,
      "grid_auto_columns": null,
      "grid_auto_flow": null,
      "grid_auto_rows": null,
      "grid_column": null,
      "grid_gap": null,
      "grid_row": null,
      "grid_template_areas": null,
      "grid_template_columns": null,
      "grid_template_rows": null,
      "height": null,
      "justify_content": null,
      "justify_items": null,
      "left": null,
      "margin": null,
      "max_height": null,
      "max_width": null,
      "min_height": null,
      "min_width": null,
      "object_fit": null,
      "object_position": null,
      "order": null,
      "overflow": null,
      "overflow_x": null,
      "overflow_y": null,
      "padding": null,
      "right": null,
      "top": null,
      "visibility": null,
      "width": null
     }
    },
    "e74ed2f1195a43269f9ad1f724c23b4d": {
     "model_module": "@jupyter-widgets/base",
     "model_module_version": "1.2.0",
     "model_name": "LayoutModel",
     "state": {
      "_model_module": "@jupyter-widgets/base",
      "_model_module_version": "1.2.0",
      "_model_name": "LayoutModel",
      "_view_count": null,
      "_view_module": "@jupyter-widgets/base",
      "_view_module_version": "1.2.0",
      "_view_name": "LayoutView",
      "align_content": null,
      "align_items": null,
      "align_self": null,
      "border": null,
      "bottom": null,
      "display": null,
      "flex": null,
      "flex_flow": null,
      "grid_area": null,
      "grid_auto_columns": null,
      "grid_auto_flow": null,
      "grid_auto_rows": null,
      "grid_column": null,
      "grid_gap": null,
      "grid_row": null,
      "grid_template_areas": null,
      "grid_template_columns": null,
      "grid_template_rows": null,
      "height": null,
      "justify_content": null,
      "justify_items": null,
      "left": null,
      "margin": null,
      "max_height": null,
      "max_width": null,
      "min_height": null,
      "min_width": null,
      "object_fit": null,
      "object_position": null,
      "order": null,
      "overflow": null,
      "overflow_x": null,
      "overflow_y": null,
      "padding": null,
      "right": null,
      "top": null,
      "visibility": null,
      "width": null
     }
    }
   }
  }
 },
 "nbformat": 4,
 "nbformat_minor": 1
}
